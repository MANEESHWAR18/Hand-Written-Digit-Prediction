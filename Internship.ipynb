{
  "nbformat": 4,
  "nbformat_minor": 0,
  "metadata": {
    "colab": {
      "provenance": [],
      "authorship_tag": "ABX9TyPlCARvBmps/y4QZzTknjXA",
      "include_colab_link": true
    },
    "kernelspec": {
      "name": "python3",
      "display_name": "Python 3"
    },
    "language_info": {
      "name": "python"
    }
  },
  "cells": [
    {
      "cell_type": "markdown",
      "metadata": {
        "id": "view-in-github",
        "colab_type": "text"
      },
      "source": [
        "<a href=\"https://colab.research.google.com/github/MANEESHWAR18/Internship1/blob/main/Internship.ipynb\" target=\"_parent\"><img src=\"https://colab.research.google.com/assets/colab-badge.svg\" alt=\"Open In Colab\"/></a>"
      ]
    },
    {
      "cell_type": "code",
      "execution_count": null,
      "metadata": {
        "id": "RJMwt2JwqmpM"
      },
      "outputs": [],
      "source": [
        "import pandas as pd"
      ]
    },
    {
      "cell_type": "code",
      "source": [
        "import numpy as np"
      ],
      "metadata": {
        "id": "84Ek9l6brGHu"
      },
      "execution_count": null,
      "outputs": []
    },
    {
      "cell_type": "code",
      "source": [
        "import matplotlib.pyplot as plt\n"
      ],
      "metadata": {
        "id": "epYH6nAvrJpo"
      },
      "execution_count": null,
      "outputs": []
    },
    {
      "cell_type": "code",
      "source": [
        "from sklearn.datasets import load_digits"
      ],
      "metadata": {
        "id": "ppQDlyU8rfco"
      },
      "execution_count": null,
      "outputs": []
    },
    {
      "cell_type": "code",
      "source": [
        "\n",
        "digits = load_digits()\n",
        "x = digits.data\n",
        "y = digits.target\n",
        "print(\"First 6 images of the dataset: \")\n",
        "\n",
        "for x in range (6):\n",
        "\n",
        "    plt.subplot(330 + 1 + x)\n",
        "    plt.imshow(digits.images[x], cmap=plt.get_cmap('gray'))\n",
        "\n",
        "plt.show()"
      ],
      "metadata": {
        "colab": {
          "base_uri": "https://localhost:8080/",
          "height": 316
        },
        "id": "4C1vA3Bgrvay",
        "outputId": "7f48adf4-b621-429f-86f4-fd1f2c6f3e3f"
      },
      "execution_count": null,
      "outputs": [
        {
          "output_type": "stream",
          "name": "stdout",
          "text": [
            "First 6 images of the dataset: \n"
          ]
        },
        {
          "output_type": "display_data",
          "data": {
            "text/plain": [
              "<Figure size 640x480 with 6 Axes>"
            ],
            "image/png": "[encoded data removed]"
          },
          "metadata": {}
        }
      ]
    },
    {
      "cell_type": "code",
      "source": [
        "digits.images.shape"
      ],
      "metadata": {
        "colab": {
          "base_uri": "https://localhost:8080/"
        },
        "id": "hB1AFT9fvuGn",
        "outputId": "b7cce2a4-6780-4952-afef-701bad208c98"
      },
      "execution_count": null,
      "outputs": [
        {
          "output_type": "execute_result",
          "data": {
            "text/plain": [
              "(1797, 8, 8)"
            ]
          },
          "metadata": {},
          "execution_count": 24
        }
      ]
    },
    {
      "cell_type": "code",
      "source": [
        "digits.images[0]"
      ],
      "metadata": {
        "colab": {
          "base_uri": "https://localhost:8080/"
        },
        "id": "5c_68jxDv4Fx",
        "outputId": "9ef0ccc8-5602-460b-8f44-82633442959c"
      },
      "execution_count": null,
      "outputs": [
        {
          "output_type": "execute_result",
          "data": {
            "text/plain": [
              "array([[ 0.,  0.,  5., 13.,  9.,  1.,  0.,  0.],\n",
              "       [ 0.,  0., 13., 15., 10., 15.,  5.,  0.],\n",
              "       [ 0.,  3., 15.,  2.,  0., 11.,  8.,  0.],\n",
              "       [ 0.,  4., 12.,  0.,  0.,  8.,  8.,  0.],\n",
              "       [ 0.,  5.,  8.,  0.,  0.,  9.,  8.,  0.],\n",
              "       [ 0.,  4., 11.,  0.,  1., 12.,  7.,  0.],\n",
              "       [ 0.,  2., 14.,  5., 10., 12.,  0.,  0.],\n",
              "       [ 0.,  0.,  6., 13., 10.,  0.,  0.,  0.]])"
            ]
          },
          "metadata": {},
          "execution_count": 25
        }
      ]
    },
    {
      "cell_type": "code",
      "source": [
        "digits.images[0].shape"
      ],
      "metadata": {
        "colab": {
          "base_uri": "https://localhost:8080/"
        },
        "id": "Bh5zdWPFv7Qk",
        "outputId": "816be46b-a513-49cb-fc17-9b091fb28fd3"
      },
      "execution_count": null,
      "outputs": [
        {
          "output_type": "execute_result",
          "data": {
            "text/plain": [
              "(8, 8)"
            ]
          },
          "metadata": {},
          "execution_count": 26
        }
      ]
    },
    {
      "cell_type": "code",
      "source": [
        "len(digits.images)"
      ],
      "metadata": {
        "colab": {
          "base_uri": "https://localhost:8080/"
        },
        "id": "ioefFbG8wCwZ",
        "outputId": "bcd6853b-6478-4f9f-ea3f-81d716c8d417"
      },
      "execution_count": null,
      "outputs": [
        {
          "output_type": "execute_result",
          "data": {
            "text/plain": [
              "1797"
            ]
          },
          "metadata": {},
          "execution_count": 27
        }
      ]
    },
    {
      "cell_type": "code",
      "source": [
        "n_samples=len(digits.images)\n",
        "data=digits.images.reshape((n_samples,-1))"
      ],
      "metadata": {
        "id": "YY9jA9PnwKv-"
      },
      "execution_count": null,
      "outputs": []
    },
    {
      "cell_type": "code",
      "source": [
        "data[0]"
      ],
      "metadata": {
        "colab": {
          "base_uri": "https://localhost:8080/"
        },
        "id": "yXI7DWiPwXbI",
        "outputId": "babf8a42-f337-4505-8462-4fc531175d01"
      },
      "execution_count": null,
      "outputs": [
        {
          "output_type": "execute_result",
          "data": {
            "text/plain": [
              "array([ 0.,  0.,  5., 13.,  9.,  1.,  0.,  0.,  0.,  0., 13., 15., 10.,\n",
              "       15.,  5.,  0.,  0.,  3., 15.,  2.,  0., 11.,  8.,  0.,  0.,  4.,\n",
              "       12.,  0.,  0.,  8.,  8.,  0.,  0.,  5.,  8.,  0.,  0.,  9.,  8.,\n",
              "        0.,  0.,  4., 11.,  0.,  1., 12.,  7.,  0.,  0.,  2., 14.,  5.,\n",
              "       10., 12.,  0.,  0.,  0.,  0.,  6., 13., 10.,  0.,  0.,  0.])"
            ]
          },
          "metadata": {},
          "execution_count": 29
        }
      ]
    },
    {
      "cell_type": "code",
      "source": [
        "data[0].shape"
      ],
      "metadata": {
        "colab": {
          "base_uri": "https://localhost:8080/"
        },
        "id": "oUPT0Njowz20",
        "outputId": "22dc1206-2fa0-402e-ce38-eaedc593b528"
      },
      "execution_count": null,
      "outputs": [
        {
          "output_type": "execute_result",
          "data": {
            "text/plain": [
              "(64,)"
            ]
          },
          "metadata": {},
          "execution_count": 30
        }
      ]
    },
    {
      "cell_type": "code",
      "source": [
        "data.shape"
      ],
      "metadata": {
        "colab": {
          "base_uri": "https://localhost:8080/"
        },
        "id": "wJc0D5c-w3bD",
        "outputId": "b3e2fdd1-2137-40fb-ad9e-6cc7eff56df6"
      },
      "execution_count": null,
      "outputs": [
        {
          "output_type": "execute_result",
          "data": {
            "text/plain": [
              "(1797, 64)"
            ]
          },
          "metadata": {},
          "execution_count": 31
        }
      ]
    },
    {
      "cell_type": "code",
      "source": [
        "data.min()"
      ],
      "metadata": {
        "colab": {
          "base_uri": "https://localhost:8080/"
        },
        "id": "zTWsR3DAw8IC",
        "outputId": "8ef3bb4c-89c7-4b2f-b584-877fec99317b"
      },
      "execution_count": null,
      "outputs": [
        {
          "output_type": "execute_result",
          "data": {
            "text/plain": [
              "0.0"
            ]
          },
          "metadata": {},
          "execution_count": 32
        }
      ]
    },
    {
      "cell_type": "code",
      "source": [
        "data.max()"
      ],
      "metadata": {
        "colab": {
          "base_uri": "https://localhost:8080/"
        },
        "id": "sjButOnsxB1d",
        "outputId": "d636b5f2-9fda-4e3c-cbac-018be18326b5"
      },
      "execution_count": null,
      "outputs": [
        {
          "output_type": "execute_result",
          "data": {
            "text/plain": [
              "16.0"
            ]
          },
          "metadata": {},
          "execution_count": 33
        }
      ]
    },
    {
      "cell_type": "code",
      "source": [
        "data=data/16"
      ],
      "metadata": {
        "id": "oUDD_LU8xEuW"
      },
      "execution_count": null,
      "outputs": []
    },
    {
      "cell_type": "code",
      "source": [
        "data.min()"
      ],
      "metadata": {
        "colab": {
          "base_uri": "https://localhost:8080/"
        },
        "id": "awS-Dn4UxH4c",
        "outputId": "c3616370-e12b-4938-dde2-81500203b598"
      },
      "execution_count": null,
      "outputs": [
        {
          "output_type": "execute_result",
          "data": {
            "text/plain": [
              "0.0"
            ]
          },
          "metadata": {},
          "execution_count": 35
        }
      ]
    },
    {
      "cell_type": "code",
      "source": [
        "data.max()"
      ],
      "metadata": {
        "colab": {
          "base_uri": "https://localhost:8080/"
        },
        "id": "YIbUBflmxKLx",
        "outputId": "917bcde0-dc91-4367-d300-1fbd1a11d9f4"
      },
      "execution_count": null,
      "outputs": [
        {
          "output_type": "execute_result",
          "data": {
            "text/plain": [
              "1.0"
            ]
          },
          "metadata": {},
          "execution_count": 36
        }
      ]
    },
    {
      "cell_type": "code",
      "source": [
        "data[0]"
      ],
      "metadata": {
        "colab": {
          "base_uri": "https://localhost:8080/"
        },
        "id": "z5xwszelxMIY",
        "outputId": "11f49dd9-09ac-4e8d-acb6-ceeee37feb06"
      },
      "execution_count": null,
      "outputs": [
        {
          "output_type": "execute_result",
          "data": {
            "text/plain": [
              "array([0.    , 0.    , 0.3125, 0.8125, 0.5625, 0.0625, 0.    , 0.    ,\n",
              "       0.    , 0.    , 0.8125, 0.9375, 0.625 , 0.9375, 0.3125, 0.    ,\n",
              "       0.    , 0.1875, 0.9375, 0.125 , 0.    , 0.6875, 0.5   , 0.    ,\n",
              "       0.    , 0.25  , 0.75  , 0.    , 0.    , 0.5   , 0.5   , 0.    ,\n",
              "       0.    , 0.3125, 0.5   , 0.    , 0.    , 0.5625, 0.5   , 0.    ,\n",
              "       0.    , 0.25  , 0.6875, 0.    , 0.0625, 0.75  , 0.4375, 0.    ,\n",
              "       0.    , 0.125 , 0.875 , 0.3125, 0.625 , 0.75  , 0.    , 0.    ,\n",
              "       0.    , 0.    , 0.375 , 0.8125, 0.625 , 0.    , 0.    , 0.    ])"
            ]
          },
          "metadata": {},
          "execution_count": 37
        }
      ]
    },
    {
      "cell_type": "code",
      "source": [
        "from sklearn.model_selection import train_test_split"
      ],
      "metadata": {
        "id": "b2-ET-B1xOdo"
      },
      "execution_count": null,
      "outputs": []
    },
    {
      "cell_type": "code",
      "source": [
        "X_train,X_test,y_train,y_test=train_test_split(data,digits.target,test_size=0.3)"
      ],
      "metadata": {
        "id": "LYpe_waBxca7"
      },
      "execution_count": null,
      "outputs": []
    },
    {
      "cell_type": "code",
      "source": [
        "X_train.shape,X_test.shape,y_train.shape,y_test.shape"
      ],
      "metadata": {
        "colab": {
          "base_uri": "https://localhost:8080/"
        },
        "id": "TZCt8t1dxr1m",
        "outputId": "4f0714cd-10cf-4013-acb2-c71ac12b5f23"
      },
      "execution_count": null,
      "outputs": [
        {
          "output_type": "execute_result",
          "data": {
            "text/plain": [
              "((1257, 64), (540, 64), (1257,), (540,))"
            ]
          },
          "metadata": {},
          "execution_count": 40
        }
      ]
    },
    {
      "cell_type": "code",
      "source": [
        "from sklearn.ensemble import RandomForestClassifier\n",
        "rf=RandomForestClassifier()\n",
        "rf.fit(X_train,y_train)\n"
      ],
      "metadata": {
        "colab": {
          "base_uri": "https://localhost:8080/",
          "height": 74
        },
        "id": "LvB0kq9Qx5MT",
        "outputId": "53957527-4b6b-4937-8691-69d152cda291"
      },
      "execution_count": null,
      "outputs": [
        {
          "output_type": "execute_result",
          "data": {
            "text/plain": [
              "RandomForestClassifier()"
            ],
            "text/html": [
              "<style>#sk-container-id-3 {color: black;background-color: white;}#sk-container-id-3 pre{padding: 0;}#sk-container-id-3 div.sk-toggleable {background-color: white;}#sk-container-id-3 label.sk-toggleable__label {cursor: pointer;display: block;width: 100%;margin-bottom: 0;padding: 0.3em;box-sizing: border-box;text-align: center;}#sk-container-id-3 label.sk-toggleable__label-arrow:before {content: \"▸\";float: left;margin-right: 0.25em;color: #696969;}#sk-container-id-3 label.sk-toggleable__label-arrow:hover:before {color: black;}#sk-container-id-3 div.sk-estimator:hover label.sk-toggleable__label-arrow:before {color: black;}#sk-container-id-3 div.sk-toggleable__content {max-height: 0;max-width: 0;overflow: hidden;text-align: left;background-color: #f0f8ff;}#sk-container-id-3 div.sk-toggleable__content pre {margin: 0.2em;color: black;border-radius: 0.25em;background-color: #f0f8ff;}#sk-container-id-3 input.sk-toggleable__control:checked~div.sk-toggleable__content {max-height: 200px;max-width: 100%;overflow: auto;}#sk-container-id-3 input.sk-toggleable__control:checked~label.sk-toggleable__label-arrow:before {content: \"▾\";}#sk-container-id-3 div.sk-estimator input.sk-toggleable__control:checked~label.sk-toggleable__label {background-color: #d4ebff;}#sk-container-id-3 div.sk-label input.sk-toggleable__control:checked~label.sk-toggleable__label {background-color: #d4ebff;}#sk-container-id-3 input.sk-hidden--visually {border: 0;clip: rect(1px 1px 1px 1px);clip: rect(1px, 1px, 1px, 1px);height: 1px;margin: -1px;overflow: hidden;padding: 0;position: absolute;width: 1px;}#sk-container-id-3 div.sk-estimator {font-family: monospace;background-color: #f0f8ff;border: 1px dotted black;border-radius: 0.25em;box-sizing: border-box;margin-bottom: 0.5em;}#sk-container-id-3 div.sk-estimator:hover {background-color: #d4ebff;}#sk-container-id-3 div.sk-parallel-item::after {content: \"\";width: 100%;border-bottom: 1px solid gray;flex-grow: 1;}#sk-container-id-3 div.sk-label:hover label.sk-toggleable__label {background-color: #d4ebff;}#sk-container-id-3 div.sk-serial::before {content: \"\";position: absolute;border-left: 1px solid gray;box-sizing: border-box;top: 0;bottom: 0;left: 50%;z-index: 0;}#sk-container-id-3 div.sk-serial {display: flex;flex-direction: column;align-items: center;background-color: white;padding-right: 0.2em;padding-left: 0.2em;position: relative;}#sk-container-id-3 div.sk-item {position: relative;z-index: 1;}#sk-container-id-3 div.sk-parallel {display: flex;align-items: stretch;justify-content: center;background-color: white;position: relative;}#sk-container-id-3 div.sk-item::before, #sk-container-id-3 div.sk-parallel-item::before {content: \"\";position: absolute;border-left: 1px solid gray;box-sizing: border-box;top: 0;bottom: 0;left: 50%;z-index: -1;}#sk-container-id-3 div.sk-parallel-item {display: flex;flex-direction: column;z-index: 1;position: relative;background-color: white;}#sk-container-id-3 div.sk-parallel-item:first-child::after {align-self: flex-end;width: 50%;}#sk-container-id-3 div.sk-parallel-item:last-child::after {align-self: flex-start;width: 50%;}#sk-container-id-3 div.sk-parallel-item:only-child::after {width: 0;}#sk-container-id-3 div.sk-dashed-wrapped {border: 1px dashed gray;margin: 0 0.4em 0.5em 0.4em;box-sizing: border-box;padding-bottom: 0.4em;background-color: white;}#sk-container-id-3 div.sk-label label {font-family: monospace;font-weight: bold;display: inline-block;line-height: 1.2em;}#sk-container-id-3 div.sk-label-container {text-align: center;}#sk-container-id-3 div.sk-container {/* jupyter's `normalize.less` sets `[hidden] { display: none; }` but bootstrap.min.css set `[hidden] { display: none !important; }` so we also need the `!important` here to be able to override the default hidden behavior on the sphinx rendered scikit-learn.org. See: https://github.com/scikit-learn/scikit-learn/issues/21755 */display: inline-block !important;position: relative;}#sk-container-id-3 div.sk-text-repr-fallback {display: none;}</style><div id=\"sk-container-id-3\" class=\"sk-top-container\"><div class=\"sk-text-repr-fallback\"><pre>RandomForestClassifier()</pre><b>In a Jupyter environment, please rerun this cell to show the HTML representation or trust the notebook. <br />On GitHub, the HTML representation is unable to render, please try loading this page with nbviewer.org.</b></div><div class=\"sk-container\" hidden><div class=\"sk-item\"><div class=\"sk-estimator sk-toggleable\"><input class=\"sk-toggleable__control sk-hidden--visually\" id=\"sk-estimator-id-3\" type=\"checkbox\" checked><label for=\"sk-estimator-id-3\" class=\"sk-toggleable__label sk-toggleable__label-arrow\">RandomForestClassifier</label><div class=\"sk-toggleable__content\"><pre>RandomForestClassifier()</pre></div></div></div></div></div>"
            ]
          },
          "metadata": {},
          "execution_count": 43
        }
      ]
    },
    {
      "cell_type": "code",
      "source": [
        "y_pred=rf.predict(X_test)\n",
        "y_pred"
      ],
      "metadata": {
        "colab": {
          "base_uri": "https://localhost:8080/"
        },
        "id": "YDy0Q9GZySUF",
        "outputId": "a680c9ca-e714-4038-d3b7-2c94377ab044"
      },
      "execution_count": null,
      "outputs": [
        {
          "output_type": "execute_result",
          "data": {
            "text/plain": [
              "array([5, 2, 1, 1, 6, 6, 7, 6, 5, 4, 6, 4, 4, 8, 8, 4, 3, 1, 6, 9, 2, 7,\n",
              "       6, 8, 0, 8, 8, 9, 8, 3, 7, 6, 5, 4, 5, 1, 6, 4, 5, 2, 7, 4, 0, 3,\n",
              "       5, 8, 2, 7, 8, 1, 4, 1, 7, 2, 8, 4, 7, 8, 4, 3, 9, 4, 6, 4, 5, 5,\n",
              "       4, 5, 6, 1, 3, 5, 5, 9, 7, 6, 6, 7, 8, 1, 3, 0, 9, 8, 2, 7, 4, 4,\n",
              "       7, 9, 7, 2, 6, 4, 6, 7, 2, 6, 0, 8, 3, 2, 7, 3, 6, 8, 7, 7, 2, 6,\n",
              "       4, 0, 6, 3, 0, 6, 0, 6, 4, 5, 8, 6, 4, 6, 2, 0, 8, 2, 7, 7, 6, 1,\n",
              "       0, 0, 9, 0, 4, 9, 1, 5, 5, 8, 7, 8, 9, 5, 1, 5, 8, 9, 2, 2, 7, 7,\n",
              "       5, 7, 4, 9, 6, 4, 9, 5, 2, 6, 5, 0, 8, 3, 8, 4, 6, 4, 1, 9, 4, 7,\n",
              "       7, 8, 3, 4, 5, 3, 3, 7, 8, 9, 6, 6, 3, 9, 9, 5, 6, 1, 3, 7, 4, 8,\n",
              "       9, 2, 0, 6, 9, 2, 4, 2, 6, 8, 9, 5, 3, 7, 6, 5, 3, 8, 9, 3, 2, 5,\n",
              "       5, 2, 3, 4, 4, 7, 1, 0, 7, 1, 2, 6, 9, 3, 1, 4, 0, 3, 5, 4, 3, 4,\n",
              "       7, 9, 1, 0, 1, 8, 4, 4, 6, 3, 1, 7, 7, 4, 6, 1, 3, 5, 0, 9, 8, 5,\n",
              "       1, 3, 4, 6, 1, 1, 9, 4, 1, 5, 0, 7, 1, 6, 8, 8, 1, 2, 9, 4, 5, 8,\n",
              "       7, 0, 4, 5, 7, 8, 3, 3, 9, 9, 2, 3, 4, 8, 4, 6, 6, 2, 3, 6, 5, 3,\n",
              "       8, 0, 9, 3, 9, 2, 9, 5, 5, 6, 0, 3, 4, 3, 4, 5, 9, 4, 3, 0, 7, 0,\n",
              "       0, 5, 9, 4, 9, 1, 0, 0, 2, 0, 5, 9, 8, 7, 4, 9, 3, 6, 9, 3, 3, 1,\n",
              "       4, 1, 7, 3, 9, 7, 3, 8, 5, 5, 6, 1, 7, 1, 8, 5, 1, 8, 3, 5, 5, 0,\n",
              "       2, 1, 0, 5, 2, 9, 4, 0, 8, 0, 5, 7, 8, 2, 7, 5, 4, 9, 1, 0, 1, 1,\n",
              "       9, 4, 4, 8, 1, 5, 8, 6, 8, 6, 9, 9, 1, 2, 5, 6, 9, 8, 0, 3, 4, 2,\n",
              "       8, 2, 1, 9, 5, 1, 7, 3, 0, 5, 5, 7, 4, 1, 9, 2, 5, 2, 1, 1, 1, 2,\n",
              "       0, 6, 7, 2, 3, 2, 5, 5, 7, 3, 3, 2, 8, 6, 4, 6, 1, 2, 8, 1, 7, 3,\n",
              "       3, 1, 9, 5, 3, 2, 1, 9, 2, 2, 4, 7, 8, 3, 4, 8, 0, 7, 3, 3, 6, 0,\n",
              "       4, 7, 6, 1, 7, 7, 2, 5, 9, 9, 5, 3, 5, 7, 9, 3, 9, 7, 3, 8, 0, 7,\n",
              "       3, 2, 2, 7, 5, 7, 4, 9, 6, 8, 9, 7, 3, 3, 9, 4, 6, 7, 4, 7, 9, 3,\n",
              "       1, 8, 1, 2, 4, 4, 2, 6, 4, 6, 5, 3])"
            ]
          },
          "metadata": {},
          "execution_count": 45
        }
      ]
    },
    {
      "cell_type": "code",
      "source": [
        "from  sklearn.metrics import confusion_matrix,classification_report\n",
        "confusion_matrix(y_test,y_pred)\n"
      ],
      "metadata": {
        "colab": {
          "base_uri": "https://localhost:8080/"
        },
        "id": "MzmWsryUybLq",
        "outputId": "7661070a-ba00-4666-d922-2ad501268e2a"
      },
      "execution_count": null,
      "outputs": [
        {
          "output_type": "execute_result",
          "data": {
            "text/plain": [
              "array([[38,  0,  0,  0,  1,  0,  0,  0,  0,  0],\n",
              "       [ 0, 49,  0,  0,  0,  1,  0,  0,  0,  0],\n",
              "       [ 0,  0, 47,  0,  0,  0,  0,  0,  0,  0],\n",
              "       [ 0,  0,  0, 57,  0,  0,  0,  0,  2,  1],\n",
              "       [ 0,  0,  0,  0, 61,  0,  0,  0,  0,  0],\n",
              "       [ 0,  0,  0,  0,  1, 58,  0,  0,  0,  1],\n",
              "       [ 0,  0,  0,  0,  0,  0, 55,  0,  0,  0],\n",
              "       [ 0,  0,  0,  0,  0,  0,  0, 58,  0,  0],\n",
              "       [ 0,  2,  0,  1,  1,  0,  0,  1, 49,  1],\n",
              "       [ 0,  0,  0,  1,  0,  0,  0,  1,  1, 52]])"
            ]
          },
          "metadata": {},
          "execution_count": 47
        }
      ]
    },
    {
      "cell_type": "code",
      "source": [
        "print(classification_report(y_test,y_pred))"
      ],
      "metadata": {
        "colab": {
          "base_uri": "https://localhost:8080/"
        },
        "id": "YoVdq-A5y0sd",
        "outputId": "47fa28a6-4738-4fc7-ea31-77e78c83ae9f"
      },
      "execution_count": null,
      "outputs": [
        {
          "output_type": "stream",
          "name": "stdout",
          "text": [
            "              precision    recall  f1-score   support\n",
            "\n",
            "           0       1.00      0.97      0.99        39\n",
            "           1       0.96      0.98      0.97        50\n",
            "           2       1.00      1.00      1.00        47\n",
            "           3       0.97      0.95      0.96        60\n",
            "           4       0.95      1.00      0.98        61\n",
            "           5       0.98      0.97      0.97        60\n",
            "           6       1.00      1.00      1.00        55\n",
            "           7       0.97      1.00      0.98        58\n",
            "           8       0.94      0.89      0.92        55\n",
            "           9       0.95      0.95      0.95        55\n",
            "\n",
            "    accuracy                           0.97       540\n",
            "   macro avg       0.97      0.97      0.97       540\n",
            "weighted avg       0.97      0.97      0.97       540\n",
            "\n"
          ]
        }
      ]
    }
  ]
}